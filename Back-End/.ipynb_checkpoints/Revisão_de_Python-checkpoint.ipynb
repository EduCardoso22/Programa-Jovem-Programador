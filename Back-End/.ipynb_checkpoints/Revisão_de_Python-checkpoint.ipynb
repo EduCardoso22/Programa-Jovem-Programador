{
 "cells": [
  {
   "cell_type": "markdown",
   "metadata": {
    "id": "nJa2JfC1pyEF"
   },
   "source": [
    "# UC3 - Desenvolver aplicações back-end para web"
   ]
  },
  {
   "cell_type": "markdown",
   "metadata": {
    "id": "pYMRx1-1uIF6"
   },
   "source": [
    "Exercícios de revisão Python"
   ]
  },
  {
   "cell_type": "markdown",
   "metadata": {
    "id": "tmulTLj0uCyb"
   },
   "source": [
    "### 1. Variáveis"
   ]
  },
  {
   "cell_type": "markdown",
   "metadata": {
    "id": "9CuDMxUMuWke"
   },
   "source": [
    "1.1 Crie uma variável chamada nome e guarde dentro dela o seu nome.\n",
    "Depois use o print() para mostrar o nome na tela."
   ]
  },
  {
   "cell_type": "code",
   "execution_count": null,
   "metadata": {
    "id": "AOWnYeFluKs0"
   },
   "outputs": [],
   "source": [
    "nome = \"Eduardo\"\n",
    "print(nome)"
   ]
  },
  {
   "cell_type": "markdown",
   "metadata": {
    "id": "ul6aqv1_usMy"
   },
   "source": [
    "1.2 Crie uma variável chamada idade e guarde nela sua idade.\n",
    "Depois, mostre a mensagem:\n",
    "\"Você tem X anos\" (substituindo X pela idade guardada)."
   ]
  },
  {
   "cell_type": "code",
   "execution_count": 3,
   "metadata": {
    "id": "l2zK3AKtuy2A"
   },
   "outputs": [
    {
     "name": "stdout",
     "output_type": "stream",
     "text": [
      "Você tem 22 anos\n"
     ]
    }
   ],
   "source": [
    "idade = 22\n",
    "print(f\"Você tem {idade} anos\")"
   ]
  },
  {
   "cell_type": "markdown",
   "metadata": {
    "id": "bLqKE8v6uxr5"
   },
   "source": [
    "1.3 Guarde dois números diferentes em duas variáveis chamadas n1 e n2.\n",
    "Some os dois e mostre o resultado com print()."
   ]
  },
  {
   "cell_type": "code",
   "execution_count": 4,
   "metadata": {
    "id": "Ckf4uYnfu_hs"
   },
   "outputs": [
    {
     "name": "stdout",
     "output_type": "stream",
     "text": [
      "25\n"
     ]
    }
   ],
   "source": [
    "n1 = 13\n",
    "n2 = 12\n",
    "soma = n1 + n2\n",
    "print(soma)"
   ]
  },
  {
   "cell_type": "markdown",
   "metadata": {
    "id": "IAMBFziWuxva"
   },
   "source": [
    "1.4 Crie duas variáveis chamadas a e b, com valores diferentes.\n",
    "Depois troque os valores de a com b e mostre o resultado final."
   ]
  },
  {
   "cell_type": "code",
   "execution_count": 9,
   "metadata": {
    "id": "vN-DqXsSvI8f"
   },
   "outputs": [
    {
     "name": "stdout",
     "output_type": "stream",
     "text": [
      "os valores das variáveis são a=2 b=1\n"
     ]
    }
   ],
   "source": [
    "a = 1\n",
    "b = 2\n",
    "\n",
    "temporaria = a\n",
    "a = b\n",
    "b = temporaria\n",
    "\n",
    "print(f\"os valores das variáveis são a={a} b={b}\")"
   ]
  },
  {
   "cell_type": "markdown",
   "metadata": {
    "id": "lFNwgkwQvHF-"
   },
   "source": [
    "1.5 Crie duas variáveis: nome e idade.\n",
    "Mostre a frase: \"Fulano tem X anos\" usando as variáveis."
   ]
  },
  {
   "cell_type": "code",
   "execution_count": 10,
   "metadata": {
    "id": "A8BuNGu-vNWJ"
   },
   "outputs": [
    {
     "name": "stdout",
     "output_type": "stream",
     "text": [
      "Eduardo possui 22 anos\n"
     ]
    }
   ],
   "source": [
    "nome = \"Eduardo\"\n",
    "idade = 22\n",
    "\n",
    "print(f\"{nome} possui {idade} anos\")"
   ]
  },
  {
   "cell_type": "markdown",
   "metadata": {
    "id": "IRklJ-5rvYWX"
   },
   "source": [
    "### 2. Conversão entre tipos"
   ]
  },
  {
   "cell_type": "markdown",
   "metadata": {
    "id": "LePthD8yvi_k"
   },
   "source": [
    "2.1 Peça para o usuário digitar um número. Converta para int e mostre o dobro desse número.\n",
    "Dica: use int(input())."
   ]
  },
  {
   "cell_type": "code",
   "execution_count": 14,
   "metadata": {
    "id": "_pw3JzTTvpXB"
   },
   "outputs": [
    {
     "name": "stdin",
     "output_type": "stream",
     "text": [
      "Digite um número 2\n"
     ]
    },
    {
     "name": "stdout",
     "output_type": "stream",
     "text": [
      " o dobro deste número é 4\n"
     ]
    }
   ],
   "source": [
    "numero = int(input(\"Digite um número:\"))\n",
    "print(f\" o dobro deste número é {2*numero}\")"
   ]
  },
  {
   "cell_type": "markdown",
   "metadata": {
    "id": "JiqzgkV9vres"
   },
   "source": [
    "2.2 Peça a idade da pessoa e converta para número e diga se é maior de idade (18 ou mais)."
   ]
  },
  {
   "cell_type": "code",
   "execution_count": 18,
   "metadata": {
    "id": "WHM_jieKvurp"
   },
   "outputs": [
    {
     "name": "stdin",
     "output_type": "stream",
     "text": [
      "Digite sua idade 19\n"
     ]
    },
    {
     "name": "stdout",
     "output_type": "stream",
     "text": [
      "Você é maior de idade\n"
     ]
    }
   ],
   "source": [
    "idade = int(input(\"Digite sua idade:\"))\n",
    "if idade >= 18:\n",
    "    print(\"Você é maior de idade\")\n",
    "else:\n",
    "    print(\"Você é menor de idade\")"
   ]
  },
  {
   "cell_type": "markdown",
   "metadata": {
    "id": "Q8kmJ5BNv0hj"
   },
   "source": [
    "2.3 Peça um nome e verifique se a pessoa digitou algo ou deixou em branco."
   ]
  },
  {
   "cell_type": "code",
   "execution_count": 22,
   "metadata": {
    "id": "tBj7xl0Fv450"
   },
   "outputs": [
    {
     "name": "stdin",
     "output_type": "stream",
     "text": [
      "Digite seu nome aqui edu\n"
     ]
    }
   ],
   "source": [
    "nome = input(\"Digite seu nome aqui:\")\n",
    "if nome == \"\":\n",
    "    print(\"Você deixou seu nome em branco!\")"
   ]
  },
  {
   "cell_type": "markdown",
   "metadata": {
    "id": "zQemitOwwNIc"
   },
   "source": [
    "2.4 Peça um número, converta para inteiro, e diga se é positivo, negativo ou zero."
   ]
  },
  {
   "cell_type": "code",
   "execution_count": 28,
   "metadata": {
    "id": "YItiJxlowP74"
   },
   "outputs": [
    {
     "name": "stdin",
     "output_type": "stream",
     "text": [
      "Digite um número: -1\n"
     ]
    },
    {
     "name": "stdout",
     "output_type": "stream",
     "text": [
      "Seu número é um número negativo\n"
     ]
    }
   ],
   "source": [
    "num = int(input(\"Digite um número:\"))\n",
    "if num >= 0:\n",
    "        print(\"Seu número é um número positivo\")\n",
    "elif num == 0:\n",
    "    print(\"Seu número é 0\")\n",
    "else:\n",
    "    print(\"Seu número é um número negativo\")\n",
    "    "
   ]
  },
  {
   "cell_type": "markdown",
   "metadata": {
    "id": "yC8LyCmwwTdl"
   },
   "source": [
    "2.5 Peça um número, converta para inteiro, e verifique se é par ou ímpar."
   ]
  },
  {
   "cell_type": "code",
   "execution_count": 30,
   "metadata": {
    "id": "M_gnjzjVwVdk"
   },
   "outputs": [
    {
     "name": "stdin",
     "output_type": "stream",
     "text": [
      "Digite um número: 2\n"
     ]
    },
    {
     "name": "stdout",
     "output_type": "stream",
     "text": [
      "É um número par\n"
     ]
    }
   ],
   "source": [
    "num = int(input(\"Digite um número:\"))\n",
    "\n",
    "if((num % 2) == 0):\n",
    "    print(\"É um número par\")\n",
    "else:\n",
    "    print(\"É um número ímpar\")"
   ]
  },
  {
   "cell_type": "markdown",
   "metadata": {
    "id": "m2t-xzx5whxr"
   },
   "source": [
    "### 3. Trabalhando com datas"
   ]
  },
  {
   "cell_type": "markdown",
   "metadata": {
    "id": "si28ioanwoCa"
   },
   "source": [
    "3.1 Peça para o usuário digitar sua data de nascimento no formato dd/mm/yyyy.\n",
    "Mostre a data digitada."
   ]
  },
  {
   "cell_type": "code",
   "execution_count": 32,
   "metadata": {
    "id": "dX0gMtzOw937"
   },
   "outputs": [
    {
     "name": "stdin",
     "output_type": "stream",
     "text": [
      "Digite a data de seu nascimento (dd/mm/aaaa) por favor: 22/04/2003\n"
     ]
    },
    {
     "name": "stdout",
     "output_type": "stream",
     "text": [
      "A data digitada foi 22/04/2003.\n"
     ]
    }
   ],
   "source": [
    "data = input(\"Digite a data de seu nascimento (dd/mm/aaaa) por favor:\")\n",
    "\n",
    "print(f\"A data digitada foi {data}.\")"
   ]
  },
  {
   "cell_type": "markdown",
   "metadata": {
    "id": "ZOi4UJsXw-xC"
   },
   "source": [
    "3.2 A partir da data digitada (no formato dd/mm/yyyy), separe o dia, o mês e o ano usando split()."
   ]
  },
  {
   "cell_type": "code",
   "execution_count": 49,
   "metadata": {
    "id": "k952sXckxDzi"
   },
   "outputs": [
    {
     "name": "stdin",
     "output_type": "stream",
     "text": [
      "Digite a sua data de nascimento (dd/mm/aaaa): 22/043/24356\n"
     ]
    },
    {
     "name": "stdout",
     "output_type": "stream",
     "text": [
      "dia informado: 22\n",
      "mês informado: 043\n",
      "ano informado: 24356\n"
     ]
    }
   ],
   "source": [
    "data = input(\"Digite a sua data de nascimento (dd/mm/aaaa):\")\n",
    "separado = data.split(\"/\")\n",
    "print(f\"dia informado: {separado[0]}\")\n",
    "print(f\"mês informado: {separado[1]}\")\n",
    "print(f\"ano informado: {separado[2]}\")"
   ]
  },
  {
   "cell_type": "markdown",
   "metadata": {
    "id": "cqoFso8mxG7s"
   },
   "source": [
    "3.3 Pegue a data digitada no formato dd/mm/yyyy e mostre no formato yyyy-mm-dd."
   ]
  },
  {
   "cell_type": "code",
   "execution_count": 36,
   "metadata": {
    "id": "w7VvQ8krxNEW"
   },
   "outputs": [
    {
     "name": "stdin",
     "output_type": "stream",
     "text": [
      "Digite a sua data de nascimento (dd/mm/aaaa): 22/04/2003\n"
     ]
    },
    {
     "name": "stdout",
     "output_type": "stream",
     "text": [
      "2003-04-22\n"
     ]
    }
   ],
   "source": [
    "data = input(\"Digite a sua data de nascimento (dd/mm/aaaa):\")\n",
    "separado = data.split(\"/\")\n",
    "separado.reverse()\n",
    "unido = \"-\".join(separado)\n",
    "print(unido)"
   ]
  },
  {
   "cell_type": "markdown",
   "metadata": {
    "id": "umKp1iWtxNsb"
   },
   "source": [
    "3.4 Use a biblioteca datetime para calcular a idade da pessoa com base no ano atual."
   ]
  },
  {
   "cell_type": "code",
   "execution_count": 51,
   "metadata": {
    "id": "WSeUbRbSxQ5T"
   },
   "outputs": [
    {
     "name": "stdin",
     "output_type": "stream",
     "text": [
      "Digite sua data de nascimento no formato 'dd/mm/aaaa': 22/04/2003\n"
     ]
    },
    {
     "name": "stdout",
     "output_type": "stream",
     "text": [
      "Você tem 22 anos.\n"
     ]
    }
   ],
   "source": [
    "from datetime import datetime\n",
    "\n",
    "data = input(\"Digite sua data de nascimento no formato 'dd/mm/aaaa':\")\n",
    "\n",
    "separado = data.split(\"/\")\n",
    "datanasc = separado[2]\n",
    "datanasc = int(datanasc)\n",
    "dataatual = int(datetime.now().year)\n",
    "idade = dataatual- datanasc\n",
    "print(f\"Você tem {idade} anos.\")"
   ]
  },
  {
   "cell_type": "markdown",
   "metadata": {
    "id": "4k6__ndtxSIi"
   },
   "source": [
    "3.5 Use datetime.strptime() para tentar converter a data.\n",
    "Se der erro, avise o usuário."
   ]
  },
  {
   "cell_type": "code",
   "execution_count": null,
   "metadata": {},
   "outputs": [],
   "source": [
    "## from datetime import datetime\n",
    "while True:\n",
    "    data = input(\"Digite a data de nascimento (dd/mm/aaaa):\")\n",
    "    try:\n",
    "        data_convertida = datetime.strptime(data, \"%d/%m/%y\")\n",
    "        print(f\"A data informada foi {data_convertida}\")\n",
    "        break\n",
    "    except:\n",
    "        print(\"Data no formato incorreto\")\n"
   ]
  },
  {
   "cell_type": "markdown",
   "metadata": {
    "id": "DWvqIf9UxbAK"
   },
   "source": [
    "### 4. Listas"
   ]
  },
  {
   "cell_type": "markdown",
   "metadata": {
    "id": "0xw_Sl4KxgSC"
   },
   "source": [
    "4.1 Crie uma lista chamada nomes com 3 nomes dentro.\n",
    "Use print() para mostrar a lista completa e também o primeiro nome separado."
   ]
  },
  {
   "cell_type": "code",
   "execution_count": null,
   "metadata": {
    "id": "E71R_an6xjx7"
   },
   "outputs": [],
   "source": [
    "nomes = ['Eduardo','Robson','André']\n",
    "print(f\"Os nomes presentes na lista são: {nomes}\")\n",
    "print(f\"O primeiro nome da lista é {nomes[0]}\")"
   ]
  },
  {
   "cell_type": "markdown",
   "metadata": {
    "id": "RYhTALZnzEqt"
   },
   "source": [
    "4.2 Crie uma lista vazia chamada compras.\n",
    "Use append() para adicionar 3 itens e mostre a lista final."
   ]
  },
  {
   "cell_type": "code",
   "execution_count": null,
   "metadata": {
    "id": "4T0oOncOzHpl"
   },
   "outputs": [],
   "source": [
    "compras =[]\n",
    "compras.append('Mamão')\n",
    "compras.append('Melão')\n",
    "compras.append('Melancia')\n",
    "print(compras)"
   ]
  },
  {
   "cell_type": "markdown",
   "metadata": {
    "id": "bLge2PzGzJhw"
   },
   "source": [
    "4.3 Com uma lista de 4 frutas, remova uma fruta e troque outra por um novo nome."
   ]
  },
  {
   "cell_type": "code",
   "execution_count": null,
   "metadata": {
    "id": "3mH-uKj9zMjf"
   },
   "outputs": [],
   "source": [
    "frutas = ['Melancia','Abacaxi','Manga','Tomate']\n",
    "frutas.remove(\"Melancia\")\n",
    "frutas[2] = 'Abacate'\n",
    "print(frutas)"
   ]
  },
  {
   "cell_type": "markdown",
   "metadata": {
    "id": "cMF65za0zNnX"
   },
   "source": [
    "4.4 Peça para o usuário digitar nomes de 3 amigos.\n",
    "Guarde numa lista e depois mostre quantos nomes foram digitados."
   ]
  },
  {
   "cell_type": "code",
   "execution_count": null,
   "metadata": {
    "id": "EGuCUGwDzR4p"
   },
   "outputs": [],
   "source": [
    "amigos = []\n",
    "amigos1 = input(\"Digite o nome do Primeiro amigo\")\n",
    "amigos2 = input(\"Digite o nome do Segundo amigo\")\n",
    "amigos3 = input(\"Digite o nome do Terceiro amigo\")\n",
    "\n",
    "amigos.append(amigos1)\n",
    "amigos.append(amigos2)\n",
    "amigos.append(amigos3)\n",
    "print(f\"O número de nomes digitados é: \",len(amigos))"
   ]
  },
  {
   "cell_type": "markdown",
   "metadata": {
    "id": "s8l6Ehy-zUzH"
   },
   "source": [
    "4.5 Crie uma lista de 4 filmes que você gosta e mostre um por linha usando um for."
   ]
  },
  {
   "cell_type": "code",
   "execution_count": null,
   "metadata": {
    "id": "9lhCm_-wzWcE"
   },
   "outputs": [],
   "source": [
    "filmes = ['Frozen','Enrolados','Your Name','Matrix','Quarteto Fantástico']\n",
    "print(\"Meus filmes favoritos são:\")\n",
    "for filme in filmes:\n",
    "    print (filme)"
   ]
  },
  {
   "cell_type": "markdown",
   "metadata": {
    "id": "_ywfJj1XzeOe"
   },
   "source": [
    "### 5. Dicionários"
   ]
  },
  {
   "cell_type": "markdown",
   "metadata": {
    "id": "3AniD1sdznWD"
   },
   "source": [
    "5.1 Crie um dicionário chamado pessoa com as chaves: nome, idade e cidade.\n",
    "Mostre as informações usando print()."
   ]
  },
  {
   "cell_type": "code",
   "execution_count": null,
   "metadata": {
    "id": "6aZcXYBnzijP"
   },
   "outputs": [],
   "source": [
    "pessoa = {\"nome\": \"Eduardo\", \"idade\": \"22\", \"cidade\": \"Florianópolis\"}\n",
    "print(\"nome:\", pessoa[\"nome\"])\n",
    "print(\"idade:\", pessoa[\"idade\"])\n",
    "print(\"cidade:\", pessoa[\"cidade\"])"
   ]
  },
  {
   "cell_type": "markdown",
   "metadata": {
    "id": "dnH0bvLJzpPZ"
   },
   "source": [
    "5.2 Usando o dicionário pessoa, adicione a chave profissão com algum valor.\n",
    "Depois, mostre o dicionário completo."
   ]
  },
  {
   "cell_type": "code",
   "execution_count": null,
   "metadata": {
    "id": "WJykthhTzl1i"
   },
   "outputs": [],
   "source": [
    "pessoa = {\"nome\": \"Eduardo\", \"idade\": \"22\", \"cidade\": \"Florianópolis\"}\n",
    "pessoa[\"profissão\"] = \"Desenvolvedor\"\n",
    "print(pessoa)"
   ]
  },
  {
   "cell_type": "markdown",
   "metadata": {
    "id": "uDMuj2Iazwc-"
   },
   "source": [
    "5.3 Altere o valor da idade da pessoa para um novo número."
   ]
  },
  {
   "cell_type": "code",
   "execution_count": null,
   "metadata": {
    "id": "L5LAsLyezzS7"
   },
   "outputs": [],
   "source": [
    "pessoa = {\"nome\": \"Eduardo\", \"idade\": \"22\", \"cidade\": \"Florianópolis\"}\n",
    "pessoa[\"idade\"] = \"25\""
   ]
  },
  {
   "cell_type": "markdown",
   "metadata": {
    "id": "m-bvg3vNz0ze"
   },
   "source": [
    "5.4 Remova a chave cidade do dicionário usando del e mostre o resultado."
   ]
  },
  {
   "cell_type": "code",
   "execution_count": null,
   "metadata": {
    "id": "6si9WvZKz2MQ"
   },
   "outputs": [],
   "source": [
    "pessoa = {\"nome\": \"Eduardo\", \"idade\": \"22\", \"cidade\": \"Florianópolis\"}\n",
    "del pessoa [\"cidade\"]\n",
    "print(pessoa)"
   ]
  },
  {
   "cell_type": "markdown",
   "metadata": {
    "id": "vWvL9bZtz3n5"
   },
   "source": [
    "5.5 Peça ao usuário para digitar seu nome, idade e cidade,\n",
    "e guarde as informações em um dicionário chamado usuario.\n",
    "Depois mostre os dados formatados."
   ]
  },
  {
   "cell_type": "code",
   "execution_count": null,
   "metadata": {
    "id": "rR9KT4MHz5EL"
   },
   "outputs": [],
   "source": [
    "nome =input(\"Digite seu nome:\")\n",
    "idade =input(\"Digite sua idade:\")\n",
    "cidade =input(\"Digte sua cidade:\")\n",
    "\n",
    "usuario = {\"nome\": nome, \"idade\": idade, \"cidade\": cidade}\n",
    "print(f\"\\n O usuário se chama {usuario['nome']}, tem {usuario['idade']} anos e mora em {usuario['cidade']}.\")"
   ]
  },
  {
   "cell_type": "markdown",
   "metadata": {
    "id": "4p6Py30_z8Fc"
   },
   "source": [
    "### 6. Listas + Dicionários"
   ]
  },
  {
   "cell_type": "markdown",
   "metadata": {
    "id": "TqlIsb420IZ-"
   },
   "source": [
    "6.1 Crie uma lista chamada alunos, onde cada item é um dicionário com nome e idade.\n",
    "Adicione pelo menos 3 alunos manualmente e mostre todos os dados."
   ]
  },
  {
   "cell_type": "code",
   "execution_count": null,
   "metadata": {
    "id": "aiQiGH5i0G5L"
   },
   "outputs": [],
   "source": [
    "alunos = [{\"nome\": \"Matheus\", \"idade\": \"21\",},{\"nome\": \"Fernando\", \"idade\": \"37\",}, {\"nome\": \"Fábio\", \"idade\": \"7\",}]\n",
    "print(alunos)"
   ]
  },
  {
   "cell_type": "markdown",
   "metadata": {
    "id": "DbJVr_-90NMf"
   },
   "source": [
    "6.2 Peça ao usuário para digitar nome e idade de uma pessoa.\n",
    "Guarde os dados em um dicionário e adicione à lista alunos."
   ]
  },
  {
   "cell_type": "code",
   "execution_count": null,
   "metadata": {
    "id": "2Pp7OKR00Omp"
   },
   "outputs": [],
   "source": [
    "nome =input(\"Digite um nome:\")\n",
    "idade =input(\"Digite uma idade:\")\n",
    "alunos = [{\"nome\": nome, \"idade\": idade}]\n",
    "print(alunos)"
   ]
  },
  {
   "cell_type": "markdown",
   "metadata": {
    "id": "QEs01h3w0RLa"
   },
   "source": [
    "6.3 Use a lista alunos e diga quantos têm mais de 20 anos."
   ]
  },
  {
   "cell_type": "code",
   "execution_count": null,
   "metadata": {
    "id": "cHwkYn9E0Sjb"
   },
   "outputs": [],
   "source": [
    "alunos = [{\"nome\": \"Eduardo\", \"idade\": 22,},{\"nome\": \"Fernanda\", \"idade\": 37,}, {\"nome\": \"Fábio\", \"idade\": 7,}]\n",
    "maior_que_20 = 0\n",
    "for aluno in alunos:\n",
    "    idade = int(aluno[\"idade\"])\n",
    "    if idade > 20:\n",
    "        maior_que_20 +=1\n",
    "print(f\"total de alunos com mais que 20 anos: {maior_que_20}\")"
   ]
  },
  {
   "cell_type": "markdown",
   "metadata": {
    "id": "90Quzw5B3shf"
   },
   "source": [
    "6.4 Crie uma nova lista chamada nomes que contenha apenas os nomes dos alunos da lista alunos."
   ]
  },
  {
   "cell_type": "code",
   "execution_count": null,
   "metadata": {
    "id": "HrYT137S3ovh"
   },
   "outputs": [],
   "source": [
    "alunos = [{\"nome\": \"Eduardo\", \"idade\": 22},{\"nome\": \"Fernando\", \"idade\": 32}, {\"nome\": \"Fábio\", \"idade\": 17}]\n",
    "nomes = [aluno[\"nome\"] for aluno in alunos]\n",
    "print(nomes)"
   ]
  },
  {
   "cell_type": "markdown",
   "metadata": {
    "id": "kIQ_DQ9u3vYe"
   },
   "source": [
    "6.5 Usando a biblioteca json, transforme a lista alunos em uma string JSON e mostre na tela."
   ]
  },
  {
   "cell_type": "code",
   "execution_count": null,
   "metadata": {
    "id": "JBwARjTl3zp6"
   },
   "outputs": [],
   "source": [
    "import json\n",
    "\n",
    "alunos = [\n",
    "    {\"nome\": \"Eduardo\", \"idade\": 22},\n",
    "    {\"nome\": \"Fernando\", \"idade\": 32},\n",
    "    {\"nome\": \"Fábio\", \"idade\": 17}\n",
    "]\n",
    "\n",
    "alunos_json = json.dumps(alunos, ensure_ascii=False)\n",
    "print(alunos_json)"
   ]
  },
  {
   "cell_type": "markdown",
   "metadata": {
    "id": "uENYkqpQ31KZ"
   },
   "source": [
    "### 7. Tratamento de erro"
   ]
  },
  {
   "cell_type": "markdown",
   "metadata": {
    "id": "s9_9zITB4N9L"
   },
   "source": [
    "7.1 Peça ao usuário para digitar um número.\n",
    "Use try para converter com int() e mostre o dobro do número.\n",
    "Se der erro, mostre uma mensagem amigável."
   ]
  },
  {
   "cell_type": "code",
   "execution_count": null,
   "metadata": {
    "id": "K7mbxTNY46Bm"
   },
   "outputs": [],
   "source": [
    "try:\n",
    "    numero = int(input(\"digite um número:\"))\n",
    "    dobro_Numero = numero * 2\n",
    "    print(f\"O dobro do número é: \", {dobro_Numero})\n",
    "except:\n",
    "    print(\"não foi possível mostrar o dobro deste número\")"
   ]
  },
  {
   "cell_type": "markdown",
   "metadata": {
    "id": "s_Ts3Asp46h2"
   },
   "source": [
    "7.2 Use o dicionário abaixo.\n",
    "`pessoa = {\"nome\": \"Carlos\", \"idade\": 40, \"cidade\": \"Natal\"}`\n",
    "Peça ao usuário para digitar uma chave (ex: nome, idade, cidade).\n",
    "Use try para mostrar o valor, e trate o erro se a chave não existir."
   ]
  },
  {
   "cell_type": "code",
   "execution_count": null,
   "metadata": {
    "id": "2wakiYlP5JsN"
   },
   "outputs": [],
   "source": [
    "pessoa = {\"nome\": \"Carlos\", \"idade\": 40, \"cidade\": \"Natal\"}\n",
    "chave = input(\"Digite uma chave (ex: nome, idade, cidade)\")\n",
    "\n",
    "try: \n",
    "    valor = pessoa[chave]\n",
    "    print(f\"O valor desta chave é: {valor}\")\n",
    "except KeyError:\n",
    "    print(\"Essa chave não existe\")"
   ]
  },
  {
   "cell_type": "markdown",
   "metadata": {
    "id": "0BN6fv0y5MPB"
   },
   "source": [
    "7.3 Peça dois números e divida o primeiro pelo segundo.\n",
    "Use try para evitar divisão por zero."
   ]
  },
  {
   "cell_type": "code",
   "execution_count": null,
   "metadata": {
    "id": "h1M-OcG15OJd"
   },
   "outputs": [],
   "source": [
    "numero1 = float(input(\"digite o primeiro número\"))\n",
    "numero2 = float(input(\"digite o segundo número\"))\n",
    "\n",
    "try: \n",
    "    divisao = numero1/numero2\n",
    "    print(f\"A divisão dos números é: {divisao}\")\n",
    "except ValueError:\n",
    "    print(\"A divisão dos números não foi possível\")"
   ]
  },
  {
   "cell_type": "markdown",
   "metadata": {
    "id": "u-vZBq325QTA"
   },
   "source": [
    "7.4 Peça um número inteiro.\n",
    "Se for inválido, mostre um erro.\n",
    "Se for negativo, mostre uma mensagem especial."
   ]
  },
  {
   "cell_type": "code",
   "execution_count": null,
   "metadata": {
    "id": "PLj79VdX5TrA"
   },
   "outputs": [],
   "source": [
    "try:\n",
    "    n1 =int(input(\"Digite um número inteiro:\"))\n",
    "    if n1 < 0:\n",
    "        print(\"Você digitou um número negativo\")\n",
    "    else:\n",
    "        print(f\"Você digitou o número: {n1}\")\n",
    "except ValueError:\n",
    "    print(\"Erro:Número inválido. Por favor digite um número inteiro.\")"
   ]
  },
  {
   "cell_type": "markdown",
   "metadata": {
    "id": "_R20-0F85XTZ"
   },
   "source": [
    "7.5 Peça nome e idade da pessoa.\n",
    "Use try para garantir que a idade seja número.\n",
    "Se tudo estiver certo, mostre os dados."
   ]
  },
  {
   "cell_type": "code",
   "execution_count": null,
   "metadata": {
    "id": "hsHV1EvC5ZwT"
   },
   "outputs": [],
   "source": [
    "nome =input(\"Digite seu nome\")\n",
    "try:\n",
    "    idade =int(input(\"Digite sua idade\"))\n",
    "    print(f\"Seu nome é: {nome}.\")\n",
    "    print(f\"Sua idade é: {idade}.\")\n",
    "except ValueError:\n",
    "    print(\"Erro:Idade inválida. Por favor digite um número inteiro válido.\")"
   ]
  },
  {
   "cell_type": "markdown",
   "metadata": {},
   "source": [
    "### 8. Metodos"
   ]
  },
  {
   "cell_type": "markdown",
   "metadata": {},
   "source": [
    "8.1 Crie um função que receba dois numeros e retone a soma entre eles"
   ]
  },
  {
   "cell_type": "code",
   "execution_count": null,
   "metadata": {},
   "outputs": [],
   "source": [
    "def somar(a, b):\n",
    "    a = float(input(\"Digite o primeiro número\"))\n",
    "    b = float(input(\"Digite o segundo número\"))\n",
    "    soma = a + b\n",
    "    return soma"
   ]
  },
  {
   "cell_type": "markdown",
   "metadata": {},
   "source": [
    "8.2 Crie um função que receba dois numeros e retone a subtracao entre eles"
   ]
  },
  {
   "cell_type": "code",
   "execution_count": null,
   "metadata": {},
   "outputs": [],
   "source": [
    "def sub(a, b):\n",
    "    a = float(input(\"Digite o primeiro número\"))\n",
    "    b = float(input(\"Digite o segundo número\"))\n",
    "    sub = a - b\n",
    "    return sub"
   ]
  },
  {
   "cell_type": "markdown",
   "metadata": {},
   "source": [
    "8.3 Crie um função que receba dois numeros e retone a divisão entre eles"
   ]
  },
  {
   "cell_type": "code",
   "execution_count": null,
   "metadata": {},
   "outputs": [],
   "source": [
    "def dividir(a, b):\n",
    "    a = float(input(\"Digite o primeiro número\"))\n",
    "    b = float(input(\"Digite o segundo número\"))\n",
    "    if b == 0:\n",
    "        return \"Erro: divisão por zero não é permitida.\"\n",
    "    return a / b"
   ]
  },
  {
   "cell_type": "markdown",
   "metadata": {},
   "source": [
    "8.4 Crie um função que receba dois numeros e retone a multiplicacao entre eles"
   ]
  },
  {
   "cell_type": "code",
   "execution_count": null,
   "metadata": {},
   "outputs": [],
   "source": [
    "def sub(a, b):\n",
    "    a = float(input(\"Digite o primeiro número\"))\n",
    "    b = float(input(\"Digite o segundo número\"))\n",
    "    mul = a + b\n",
    "    return mul"
   ]
  },
  {
   "cell_type": "markdown",
   "metadata": {},
   "source": [
    "8.5 Crie um função que receba dois numeros e retone a subtracao entre eles"
   ]
  },
  {
   "cell_type": "code",
   "execution_count": null,
   "metadata": {},
   "outputs": [],
   "source": [
    "def sub(a, b):\n",
    "    a = float(input(\"Digite o primeiro número\"))\n",
    "    b = float(input(\"Digite o segundo número\"))\n",
    "    sub = a - b\n",
    "    return sub"
   ]
  },
  {
   "cell_type": "markdown",
   "metadata": {},
   "source": [
    "8.6 Crie um função que receba dois numeros e a operação, essa funcao deve verificar a operação e executar os metodos anteriores"
   ]
  },
  {
   "cell_type": "code",
   "execution_count": null,
   "metadata": {},
   "outputs": [],
   "source": [
    "def calcular(a, b, operacao):\n",
    "    a = float(input(\"Digite o primeiro número\"))\n",
    "    b = float(input(\"Digite o segundo número\"))\n",
    "    operacao =input(\"Digite qual operação deseja (ex: soma, subtração, multiplicação, divisão)\")\n",
    "    if operacao == 'soma':\n",
    "        return a + b\n",
    "    elif operacao == 'subtração':\n",
    "        return a - b\n",
    "    elif operacao == 'multiplicação':\n",
    "        return a * b\n",
    "    elif operacao == 'divisão':\n",
    "        if b != 0:\n",
    "            return a / b\n",
    "        else:\n",
    "            return \"Erro: divisão por zero\"\n",
    "    else:\n",
    "        return \"Operação inválida\""
   ]
  }
 ],
 "metadata": {
  "colab": {
   "collapsed_sections": [
    "tmulTLj0uCyb",
    "IRklJ-5rvYWX",
    "m2t-xzx5whxr",
    "DWvqIf9UxbAK",
    "_ywfJj1XzeOe"
   ],
   "provenance": [],
   "toc_visible": true
  },
  "kernelspec": {
   "display_name": "Python 3 (ipykernel)",
   "language": "python",
   "name": "python3"
  },
  "language_info": {
   "codemirror_mode": {
    "name": "ipython",
    "version": 3
   },
   "file_extension": ".py",
   "mimetype": "text/x-python",
   "name": "python",
   "nbconvert_exporter": "python",
   "pygments_lexer": "ipython3",
   "version": "3.11.9"
  }
 },
 "nbformat": 4,
 "nbformat_minor": 4
}
